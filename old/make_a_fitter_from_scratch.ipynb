{
 "cells": [
  {
   "cell_type": "code",
   "execution_count": 1,
   "id": "9fcc613b",
   "metadata": {},
   "outputs": [],
   "source": [
    "import sys\n",
    "from importlib import reload\n",
    "import pandas as pd\n",
    "import numpy as np\n",
    "import matplotlib.pyplot as plt\n",
    "import os, random\n",
    "\n",
    "from IPython.display import display\n",
    "\n",
    "#from sklearn.decomposition import PCA\n",
    "import sklearn.linear_model\n",
    "import tensorflow as tf\n",
    "from tensorflow.keras import layers\n",
    "from tensorflow.python.keras.utils.vis_utils import plot_model\n",
    "\n",
    "# sys.path.insert(0,'radiative_models')\n",
    "# import radiative_models\n",
    "# reload(radiative_models)\n",
    "#import radiative_models as rm"
   ]
  },
  {
   "cell_type": "code",
   "execution_count": 3,
   "id": "9fb592e8",
   "metadata": {},
   "outputs": [
    {
     "data": {
      "text/plain": [
       "[]"
      ]
     },
     "execution_count": 3,
     "metadata": {},
     "output_type": "execute_result"
    }
   ],
   "source": [
    "tf.config.experimental.list_physical_devices('GPU')"
   ]
  },
  {
   "cell_type": "code",
   "execution_count": 8,
   "id": "f6712452",
   "metadata": {},
   "outputs": [],
   "source": [
    "class MyModel(tf.keras.Model):\n",
    "    def __init__(self):\n",
    "        super().__init__()\n",
    "        #self.dense = tf.keras.layers.Dense(10, 'relu')\n",
    "    \n",
    "    def call(self, inputs):\n",
    "        x = self.dense(inputs)\n",
    "        x = tf.keras.layers.concatenate(x, inputs)\n",
    "        return x\n",
    "    "
   ]
  },
  {
   "cell_type": "code",
   "execution_count": 9,
   "id": "65949072",
   "metadata": {},
   "outputs": [],
   "source": [
    "m = MyModel()"
   ]
  },
  {
   "cell_type": "code",
   "execution_count": 11,
   "id": "255d83fd",
   "metadata": {},
   "outputs": [],
   "source": [
    "opt = tf.keras.optimizers.Adam(learning_rate=0.1)\n",
    "metrics={'output': tf.keras.metrics.RootMeanSquaredError()}\n",
    "loss = {'output': 'mse'}\n",
    "\n",
    "m.compile(optimizer=opt,\n",
    "                 loss=loss,\n",
    "                 metrics=metrics)"
   ]
  },
  {
   "cell_type": "code",
   "execution_count": null,
   "id": "605c48f2",
   "metadata": {},
   "outputs": [],
   "source": []
  },
  {
   "cell_type": "code",
   "execution_count": null,
   "id": "6903ec99",
   "metadata": {},
   "outputs": [],
   "source": []
  },
  {
   "cell_type": "markdown",
   "id": "ec96e128",
   "metadata": {},
   "source": [
    "# Make a fitter from scratch"
   ]
  },
  {
   "cell_type": "code",
   "execution_count": 109,
   "id": "f9788315",
   "metadata": {},
   "outputs": [],
   "source": [
    "class Model(tf.keras.Model):\n",
    "    def __init__(self):\n",
    "        super().__init__()\n",
    "        self.w = tf.Variable(7.)\n",
    "        self.b = tf.Variable(0.)\n",
    "        \n",
    "    def call(self, x):\n",
    "        return self.w * x + self.b"
   ]
  },
  {
   "cell_type": "code",
   "execution_count": 110,
   "id": "82c74bd9",
   "metadata": {},
   "outputs": [],
   "source": [
    "M = Model()\n"
   ]
  },
  {
   "cell_type": "code",
   "execution_count": 111,
   "id": "c5edfb40",
   "metadata": {},
   "outputs": [],
   "source": [
    "x_train = tf.random.normal((100,))\n",
    "y_train = 2.*x_train + 11."
   ]
  },
  {
   "cell_type": "code",
   "execution_count": 112,
   "id": "ba387a73",
   "metadata": {},
   "outputs": [],
   "source": [
    "def loss(y_true, y_pred):\n",
    "    return tf.reduce_mean( tf.square(y_true - y_pred) )"
   ]
  },
  {
   "cell_type": "code",
   "execution_count": 115,
   "id": "11cf1223",
   "metadata": {},
   "outputs": [],
   "source": [
    "M = Model()\n",
    "def train(model, x, y, lr):\n",
    "    with tf.GradientTape() as t:\n",
    "        t.watch(model.w)\n",
    "        t.watch(model.b)\n",
    "        y_pred = model(x)\n",
    "        current_loss = loss(y, y_pred)\n",
    "        \n",
    "    dw, db = t.gradient(current_loss, [model.w, model.b])\n",
    "    model.w.assign_sub(lr * dw)#model.w - lr * dw\n",
    "    model.b.assign_sub(lr * db)# = model.b - lr * db\n",
    "    return current_loss\n"
   ]
  },
  {
   "cell_type": "code",
   "execution_count": 118,
   "id": "c3c683ee",
   "metadata": {},
   "outputs": [
    {
     "name": "stdout",
     "output_type": "stream",
     "text": [
      "loss 0 9.094947e-13\n",
      "loss 5 9.094947e-13\n",
      "loss 10 9.094947e-13\n",
      "loss 15 0.0\n",
      "loss 20 3.637979e-12\n",
      "loss 25 9.094947e-13\n",
      "loss 30 9.094947e-13\n",
      "loss 35 9.094947e-13\n",
      "loss 40 2.046363e-12\n",
      "loss 45 9.094947e-13\n",
      "loss 50 9.094947e-13\n",
      "loss 55 9.094947e-13\n",
      "loss 60 9.094947e-13\n",
      "loss 65 9.094947e-13\n",
      "loss 70 9.094947e-13\n",
      "loss 75 0.0\n",
      "loss 80 3.637979e-12\n",
      "loss 85 9.094947e-13\n",
      "loss 90 9.094947e-13\n",
      "loss 95 0.0\n"
     ]
    }
   ],
   "source": [
    "for i in range(len(x_train)):\n",
    "    current_loss = train(M, x_train[i], y_train[i], 0.1)    \n",
    "    if i%5 == 0:\n",
    "        print(\"loss\",i, current_loss.numpy())\n"
   ]
  },
  {
   "cell_type": "code",
   "execution_count": 93,
   "id": "b7c4f8d0",
   "metadata": {},
   "outputs": [
    {
     "data": {
      "text/plain": [
       "<tf.Tensor: id=871, shape=(), dtype=float32, numpy=7.039728>"
      ]
     },
     "execution_count": 93,
     "metadata": {},
     "output_type": "execute_result"
    }
   ],
   "source": [
    "M.w"
   ]
  },
  {
   "cell_type": "code",
   "execution_count": null,
   "id": "0a4ab495",
   "metadata": {},
   "outputs": [],
   "source": [
    "\n"
   ]
  },
  {
   "cell_type": "code",
   "execution_count": null,
   "id": "01009efe",
   "metadata": {},
   "outputs": [],
   "source": []
  },
  {
   "cell_type": "code",
   "execution_count": null,
   "id": "cc8df735",
   "metadata": {},
   "outputs": [],
   "source": []
  },
  {
   "cell_type": "code",
   "execution_count": 105,
   "id": "33f2e738",
   "metadata": {},
   "outputs": [],
   "source": [
    "class Model(tf.keras.Model):\n",
    "    def __init__(self):\n",
    "        self.w = tf.Variable(7.)\n",
    "        self.b = tf.Variable(0.)\n",
    "        \n",
    "    def call(self, x):\n",
    "        return self.w * x + self.b"
   ]
  },
  {
   "cell_type": "code",
   "execution_count": 106,
   "id": "c5966feb",
   "metadata": {},
   "outputs": [],
   "source": [
    "M = Model()"
   ]
  },
  {
   "cell_type": "code",
   "execution_count": 107,
   "id": "e2a65d01",
   "metadata": {},
   "outputs": [
    {
     "ename": "AttributeError",
     "evalue": "'Model' object has no attribute '_dtype_policy'",
     "output_type": "error",
     "traceback": [
      "\u001b[0;31m---------------------------------------------------------------------------\u001b[0m",
      "\u001b[0;31mAttributeError\u001b[0m                            Traceback (most recent call last)",
      "\u001b[0;32m<ipython-input-107-c06518be68fa>\u001b[0m in \u001b[0;36m<module>\u001b[0;34m\u001b[0m\n\u001b[0;32m----> 1\u001b[0;31m \u001b[0mM\u001b[0m\u001b[0;34m.\u001b[0m\u001b[0mcompile\u001b[0m\u001b[0;34m(\u001b[0m\u001b[0;34m)\u001b[0m\u001b[0;34m\u001b[0m\u001b[0;34m\u001b[0m\u001b[0m\n\u001b[0m",
      "\u001b[0;32m~/anaconda3/envs/astroml/lib/python3.7/site-packages/tensorflow_core/python/training/tracking/base.py\u001b[0m in \u001b[0;36m_method_wrapper\u001b[0;34m(self, *args, **kwargs)\u001b[0m\n\u001b[1;32m    455\u001b[0m     \u001b[0mself\u001b[0m\u001b[0;34m.\u001b[0m\u001b[0m_self_setattr_tracking\u001b[0m \u001b[0;34m=\u001b[0m \u001b[0;32mFalse\u001b[0m  \u001b[0;31m# pylint: disable=protected-access\u001b[0m\u001b[0;34m\u001b[0m\u001b[0;34m\u001b[0m\u001b[0m\n\u001b[1;32m    456\u001b[0m     \u001b[0;32mtry\u001b[0m\u001b[0;34m:\u001b[0m\u001b[0;34m\u001b[0m\u001b[0;34m\u001b[0m\u001b[0m\n\u001b[0;32m--> 457\u001b[0;31m       \u001b[0mresult\u001b[0m \u001b[0;34m=\u001b[0m \u001b[0mmethod\u001b[0m\u001b[0;34m(\u001b[0m\u001b[0mself\u001b[0m\u001b[0;34m,\u001b[0m \u001b[0;34m*\u001b[0m\u001b[0margs\u001b[0m\u001b[0;34m,\u001b[0m \u001b[0;34m**\u001b[0m\u001b[0mkwargs\u001b[0m\u001b[0;34m)\u001b[0m\u001b[0;34m\u001b[0m\u001b[0;34m\u001b[0m\u001b[0m\n\u001b[0m\u001b[1;32m    458\u001b[0m     \u001b[0;32mfinally\u001b[0m\u001b[0;34m:\u001b[0m\u001b[0;34m\u001b[0m\u001b[0;34m\u001b[0m\u001b[0m\n\u001b[1;32m    459\u001b[0m       \u001b[0mself\u001b[0m\u001b[0;34m.\u001b[0m\u001b[0m_self_setattr_tracking\u001b[0m \u001b[0;34m=\u001b[0m \u001b[0mprevious_value\u001b[0m  \u001b[0;31m# pylint: disable=protected-access\u001b[0m\u001b[0;34m\u001b[0m\u001b[0;34m\u001b[0m\u001b[0m\n",
      "\u001b[0;32m~/anaconda3/envs/astroml/lib/python3.7/site-packages/tensorflow_core/python/keras/engine/training.py\u001b[0m in \u001b[0;36mcompile\u001b[0;34m(self, optimizer, loss, metrics, loss_weights, sample_weight_mode, weighted_metrics, target_tensors, distribute, **kwargs)\u001b[0m\n\u001b[1;32m    249\u001b[0m         'experimental_run_tf_function', True)\n\u001b[1;32m    250\u001b[0m \u001b[0;34m\u001b[0m\u001b[0m\n\u001b[0;32m--> 251\u001b[0;31m     \u001b[0mself\u001b[0m\u001b[0;34m.\u001b[0m\u001b[0m_set_optimizer\u001b[0m\u001b[0;34m(\u001b[0m\u001b[0moptimizer\u001b[0m\u001b[0;34m)\u001b[0m\u001b[0;34m\u001b[0m\u001b[0;34m\u001b[0m\u001b[0m\n\u001b[0m\u001b[1;32m    252\u001b[0m     is_any_optimizer_v1 = any(isinstance(opt, optimizers.Optimizer)\n\u001b[1;32m    253\u001b[0m                               for opt in nest.flatten(self.optimizer))\n",
      "\u001b[0;32m~/anaconda3/envs/astroml/lib/python3.7/site-packages/tensorflow_core/python/keras/engine/training.py\u001b[0m in \u001b[0;36m_set_optimizer\u001b[0;34m(self, optimizer)\u001b[0m\n\u001b[1;32m   1454\u001b[0m       \u001b[0mself\u001b[0m\u001b[0;34m.\u001b[0m\u001b[0moptimizer\u001b[0m \u001b[0;34m=\u001b[0m \u001b[0moptimizers\u001b[0m\u001b[0;34m.\u001b[0m\u001b[0mget\u001b[0m\u001b[0;34m(\u001b[0m\u001b[0moptimizer\u001b[0m\u001b[0;34m)\u001b[0m\u001b[0;34m\u001b[0m\u001b[0;34m\u001b[0m\u001b[0m\n\u001b[1;32m   1455\u001b[0m \u001b[0;34m\u001b[0m\u001b[0m\n\u001b[0;32m-> 1456\u001b[0;31m     if (self._dtype_policy.loss_scale is not None and\n\u001b[0m\u001b[1;32m   1457\u001b[0m         not isinstance(self.optimizer,\n\u001b[1;32m   1458\u001b[0m                        loss_scale_optimizer.LossScaleOptimizer)):\n",
      "\u001b[0;31mAttributeError\u001b[0m: 'Model' object has no attribute '_dtype_policy'"
     ]
    }
   ],
   "source": [
    "M.compile()"
   ]
  },
  {
   "cell_type": "code",
   "execution_count": null,
   "id": "82db4dc5",
   "metadata": {},
   "outputs": [],
   "source": []
  }
 ],
 "metadata": {
  "kernelspec": {
   "display_name": "Python 3",
   "language": "python",
   "name": "python3"
  },
  "language_info": {
   "codemirror_mode": {
    "name": "ipython",
    "version": 3
   },
   "file_extension": ".py",
   "mimetype": "text/x-python",
   "name": "python",
   "nbconvert_exporter": "python",
   "pygments_lexer": "ipython3",
   "version": "3.7.10"
  }
 },
 "nbformat": 4,
 "nbformat_minor": 5
}
