{
 "cells": [
  {
   "cell_type": "markdown",
   "metadata": {},
   "source": [
    "# Playing with the analysis of Maxwell"
   ]
  },
  {
   "cell_type": "markdown",
   "metadata": {},
   "source": [
    "19 May 2021, Maxwell & Ben"
   ]
  },
  {
   "cell_type": "code",
   "execution_count": 3,
   "metadata": {},
   "outputs": [],
   "source": [
    "import pandas as pd\n",
    "import numpy as np\n",
    "import matplotlib.pyplot as plt\n",
    "import os\n",
    "#import tensorflow as tf \n",
    "from sklearn.decomposition import PCA"
   ]
  },
  {
   "cell_type": "markdown",
   "metadata": {},
   "source": [
    "## Loading the binned data"
   ]
  },
  {
   "cell_type": "code",
   "execution_count": 4,
   "metadata": {},
   "outputs": [
    {
     "data": {
      "text/html": [
       "<div>\n",
       "<style scoped>\n",
       "    .dataframe tbody tr th:only-of-type {\n",
       "        vertical-align: middle;\n",
       "    }\n",
       "\n",
       "    .dataframe tbody tr th {\n",
       "        vertical-align: top;\n",
       "    }\n",
       "\n",
       "    .dataframe thead th {\n",
       "        text-align: right;\n",
       "    }\n",
       "</style>\n",
       "<table border=\"1\" class=\"dataframe\">\n",
       "  <thead>\n",
       "    <tr style=\"text-align: right;\">\n",
       "      <th></th>\n",
       "      <th>CX-Tau</th>\n",
       "      <th>SZ50</th>\n",
       "      <th>DF-Tau</th>\n",
       "      <th>DG-Tau</th>\n",
       "      <th>BP-Tau</th>\n",
       "      <th>DR-Tau</th>\n",
       "      <th>GW-Lup</th>\n",
       "      <th>FT-Tau</th>\n",
       "      <th>V1094Sco</th>\n",
       "      <th>DN-Tau</th>\n",
       "      <th>...</th>\n",
       "      <th>WX-Cha</th>\n",
       "      <th>LkCa15</th>\n",
       "      <th>SY-Cha</th>\n",
       "      <th>WA-Oph6</th>\n",
       "      <th>HK-Tau-B</th>\n",
       "      <th>RW-Aur</th>\n",
       "      <th>XX-Cha</th>\n",
       "      <th>SZ98</th>\n",
       "      <th>VW-Cha</th>\n",
       "      <th>wavelength</th>\n",
       "    </tr>\n",
       "  </thead>\n",
       "  <tbody>\n",
       "    <tr>\n",
       "      <th>0</th>\n",
       "      <td>0.094564</td>\n",
       "      <td>0.135032</td>\n",
       "      <td>1.286557</td>\n",
       "      <td>1.864737</td>\n",
       "      <td>0.316833</td>\n",
       "      <td>2.050333</td>\n",
       "      <td>NaN</td>\n",
       "      <td>0.162737</td>\n",
       "      <td>0.135167</td>\n",
       "      <td>0.239397</td>\n",
       "      <td>...</td>\n",
       "      <td>0.511260</td>\n",
       "      <td>0.155042</td>\n",
       "      <td>0.173041</td>\n",
       "      <td>0.915681</td>\n",
       "      <td>0.194190</td>\n",
       "      <td>1.008920</td>\n",
       "      <td>0.138236</td>\n",
       "      <td>0.353582</td>\n",
       "      <td>0.926323</td>\n",
       "      <td>5.125</td>\n",
       "    </tr>\n",
       "    <tr>\n",
       "      <th>1</th>\n",
       "      <td>0.099114</td>\n",
       "      <td>0.146360</td>\n",
       "      <td>1.144572</td>\n",
       "      <td>1.989051</td>\n",
       "      <td>0.330404</td>\n",
       "      <td>1.914572</td>\n",
       "      <td>NaN</td>\n",
       "      <td>0.171933</td>\n",
       "      <td>0.130256</td>\n",
       "      <td>0.228572</td>\n",
       "      <td>...</td>\n",
       "      <td>0.442444</td>\n",
       "      <td>0.153514</td>\n",
       "      <td>0.165710</td>\n",
       "      <td>0.889866</td>\n",
       "      <td>0.190915</td>\n",
       "      <td>0.992892</td>\n",
       "      <td>0.131882</td>\n",
       "      <td>0.337941</td>\n",
       "      <td>0.878628</td>\n",
       "      <td>5.375</td>\n",
       "    </tr>\n",
       "    <tr>\n",
       "      <th>2</th>\n",
       "      <td>0.098763</td>\n",
       "      <td>0.144867</td>\n",
       "      <td>1.054155</td>\n",
       "      <td>2.011706</td>\n",
       "      <td>0.319811</td>\n",
       "      <td>1.881706</td>\n",
       "      <td>NaN</td>\n",
       "      <td>0.163080</td>\n",
       "      <td>0.122607</td>\n",
       "      <td>0.226957</td>\n",
       "      <td>...</td>\n",
       "      <td>0.424629</td>\n",
       "      <td>0.143247</td>\n",
       "      <td>0.159675</td>\n",
       "      <td>0.873766</td>\n",
       "      <td>0.180816</td>\n",
       "      <td>0.949140</td>\n",
       "      <td>0.127940</td>\n",
       "      <td>0.338554</td>\n",
       "      <td>0.834307</td>\n",
       "      <td>5.625</td>\n",
       "    </tr>\n",
       "    <tr>\n",
       "      <th>3</th>\n",
       "      <td>0.098917</td>\n",
       "      <td>0.147476</td>\n",
       "      <td>1.075395</td>\n",
       "      <td>2.110258</td>\n",
       "      <td>0.317471</td>\n",
       "      <td>1.892422</td>\n",
       "      <td>NaN</td>\n",
       "      <td>0.156957</td>\n",
       "      <td>0.123200</td>\n",
       "      <td>0.222620</td>\n",
       "      <td>...</td>\n",
       "      <td>0.422534</td>\n",
       "      <td>0.140699</td>\n",
       "      <td>0.161724</td>\n",
       "      <td>0.861376</td>\n",
       "      <td>0.172734</td>\n",
       "      <td>0.928021</td>\n",
       "      <td>0.126169</td>\n",
       "      <td>0.344466</td>\n",
       "      <td>0.809528</td>\n",
       "      <td>5.875</td>\n",
       "    </tr>\n",
       "    <tr>\n",
       "      <th>4</th>\n",
       "      <td>0.100230</td>\n",
       "      <td>0.150169</td>\n",
       "      <td>1.037847</td>\n",
       "      <td>2.122913</td>\n",
       "      <td>0.321052</td>\n",
       "      <td>1.842032</td>\n",
       "      <td>NaN</td>\n",
       "      <td>0.154219</td>\n",
       "      <td>0.118323</td>\n",
       "      <td>0.223233</td>\n",
       "      <td>...</td>\n",
       "      <td>0.406240</td>\n",
       "      <td>0.132310</td>\n",
       "      <td>0.158932</td>\n",
       "      <td>0.848555</td>\n",
       "      <td>0.170350</td>\n",
       "      <td>0.912182</td>\n",
       "      <td>0.123827</td>\n",
       "      <td>0.349215</td>\n",
       "      <td>0.776016</td>\n",
       "      <td>6.125</td>\n",
       "    </tr>\n",
       "  </tbody>\n",
       "</table>\n",
       "<p>5 rows × 27 columns</p>\n",
       "</div>"
      ],
      "text/plain": [
       "     CX-Tau      SZ50    DF-Tau    DG-Tau    BP-Tau    DR-Tau  GW-Lup  \\\n",
       "0  0.094564  0.135032  1.286557  1.864737  0.316833  2.050333     NaN   \n",
       "1  0.099114  0.146360  1.144572  1.989051  0.330404  1.914572     NaN   \n",
       "2  0.098763  0.144867  1.054155  2.011706  0.319811  1.881706     NaN   \n",
       "3  0.098917  0.147476  1.075395  2.110258  0.317471  1.892422     NaN   \n",
       "4  0.100230  0.150169  1.037847  2.122913  0.321052  1.842032     NaN   \n",
       "\n",
       "     FT-Tau  V1094Sco    DN-Tau  ...    WX-Cha    LkCa15    SY-Cha   WA-Oph6  \\\n",
       "0  0.162737  0.135167  0.239397  ...  0.511260  0.155042  0.173041  0.915681   \n",
       "1  0.171933  0.130256  0.228572  ...  0.442444  0.153514  0.165710  0.889866   \n",
       "2  0.163080  0.122607  0.226957  ...  0.424629  0.143247  0.159675  0.873766   \n",
       "3  0.156957  0.123200  0.222620  ...  0.422534  0.140699  0.161724  0.861376   \n",
       "4  0.154219  0.118323  0.223233  ...  0.406240  0.132310  0.158932  0.848555   \n",
       "\n",
       "   HK-Tau-B    RW-Aur    XX-Cha      SZ98    VW-Cha  wavelength  \n",
       "0  0.194190  1.008920  0.138236  0.353582  0.926323       5.125  \n",
       "1  0.190915  0.992892  0.131882  0.337941  0.878628       5.375  \n",
       "2  0.180816  0.949140  0.127940  0.338554  0.834307       5.625  \n",
       "3  0.172734  0.928021  0.126169  0.344466  0.809528       5.875  \n",
       "4  0.170350  0.912182  0.123827  0.349215  0.776016       6.125  \n",
       "\n",
       "[5 rows x 27 columns]"
      ]
     },
     "execution_count": 4,
     "metadata": {},
     "output_type": "execute_result"
    }
   ],
   "source": [
    "output_directory = \"data/binned/TTau/IRS-Christian/\"\n",
    "spectra = pd.read_csv(os.path.join(output_directory, \"TTau_spectra_binned_fluxes.csv\"))\n",
    "spectra.head()"
   ]
  },
  {
   "cell_type": "code",
   "execution_count": 38,
   "metadata": {},
   "outputs": [
    {
     "name": "stdout",
     "output_type": "stream",
     "text": [
      "Nr of specs, spec resolution:  (200, 149)\n",
      "Nr of specs, nr of params:  (200, 4)\n"
     ]
    }
   ],
   "source": [
    "file = \"nr_200_cr_abun_3-8_temp_100-300.npy\"\n",
    "syn_specs = np.load(os.path.join(\"synthetic_spectra\", \"specs_\"+file))\n",
    "syn_grid = np.load(os.path.join(\"synthetic_spectra\", \"grid_\"+file))\n",
    "print(\"Nr of specs, spec resolution: \", syn_specs.shape)\n",
    "print(\"Nr of specs, nr of params: \", syn_grid.shape)"
   ]
  },
  {
   "cell_type": "markdown",
   "metadata": {},
   "source": [
    "## Principel Component Analysis"
   ]
  },
  {
   "cell_type": "code",
   "execution_count": 18,
   "metadata": {},
   "outputs": [
    {
     "name": "stdout",
     "output_type": "stream",
     "text": [
      "Nr of specs, spec resolution:  (23, 120)\n"
     ]
    }
   ],
   "source": [
    "specs = spectra.dropna(axis=1).to_numpy()[:, :-1].T # remove the last column, which is the wavelength\n",
    "spec.T[5]\n",
    "print(\"Nr of specs, spec resolution: \", specs.shape)"
   ]
  },
  {
   "cell_type": "markdown",
   "metadata": {},
   "source": [
    "Fit the PCA model"
   ]
  },
  {
   "cell_type": "code",
   "execution_count": 19,
   "metadata": {},
   "outputs": [],
   "source": [
    "pca = PCA(n_components=2).fit_transform(specs) # pca[samples, components]\n",
    "pca_syn = PCA(n_components=2).fit_transform(syn_specs) # pca[samples, components]"
   ]
  },
  {
   "cell_type": "markdown",
   "metadata": {},
   "source": [
    "We will scale the marker size based on the mean slope of the spectrum"
   ]
  },
  {
   "cell_type": "code",
   "execution_count": 26,
   "metadata": {},
   "outputs": [],
   "source": [
    "mean_flux = np.mean(specs, axis=1) \n",
    "mean_slope = abs(np.mean(np.diff(specs, axis=1), axis=1))\n",
    "marker_size = 1000 * mean_slope/max(mean_slope)\n",
    "\n",
    "mean_flux_syn = np.mean(syn_specs, axis=1) \n",
    "mean_slope_syn = abs(np.mean(np.diff(syn_specs, axis=1), axis=1))\n",
    "marker_size_syn = 100 * mean_slope/max(mean_slope)"
   ]
  },
  {
   "cell_type": "markdown",
   "metadata": {},
   "source": [
    "We make a plot of the two components"
   ]
  },
  {
   "cell_type": "code",
   "execution_count": 75,
   "metadata": {},
   "outputs": [
    {
     "data": {
      "image/png": "[encoded data removed]",
      "text/plain": [
       "<Figure size 864x576 with 1 Axes>"
      ]
     },
     "metadata": {
      "needs_background": "light"
     },
     "output_type": "display_data"
    },
    {
     "data": {
      "image/png": "[encoded data removed]",
      "text/plain": [
       "<Figure size 432x288 with 1 Axes>"
      ]
     },
     "metadata": {
      "needs_background": "light"
     },
     "output_type": "display_data"
    },
    {
     "name": "stdout",
     "output_type": "stream",
     "text": [
      "0.48457180851600967 0.2833788388779253\n"
     ]
    },
    {
     "data": {
      "image/png": "[encoded data removed]",
      "text/plain": [
       "<Figure size 432x288 with 1 Axes>"
      ]
     },
     "metadata": {
      "needs_background": "light"
     },
     "output_type": "display_data"
    }
   ],
   "source": [
    "plt.figure(1, figsize=(12,8))\n",
    "# Use the mean slopes to color-code each spectrum\n",
    "\n",
    "\n",
    "\n",
    "plt.scatter(syn_grid[:, 3], pca_syn[:,0]  ,s=marker_size_syn)\n",
    "plt.show()\n",
    "plt.close()\n",
    "\n",
    "plt.scatter(pca[:,0], pca[:,1],s=marker_size)\n",
    "plt.show()\n",
    "plt.close(1)\n",
    "\n",
    "temps = syn_grid[:,3]-min(syn_grid[:,3])\n",
    "temps = temps/max(temps)\n",
    "print(np.mean(temps), np.std(temps))\n",
    "plt.scatter(pca_syn[:,0], pca_syn[:,1],s=100*temps)\n",
    "plt.show()\n",
    "plt.close()\n",
    "\n",
    "\n",
    "# plt.show()\n",
    "# plt.close(1)\n",
    "\n",
    "# plt.scatter(mean_flux, mean_slope,s=marker_size)\n",
    "# plt.show()\n",
    "# plt.close()\n",
    "\n",
    "# plt.scatter(pca[:,0],mean_flux)\n",
    "# plt.show()\n",
    "# plt.close()\n",
    "\n",
    "# plt.scatter(pca[:,1],mean_flux)\n",
    "# plt.show()\n",
    "# plt.close()\n",
    "\n",
    "# plt.scatter(pca[:,0],mean_slope)\n",
    "# plt.show()\n",
    "# plt.close()\n",
    "\n",
    "# plt.scatter(pca[:,1],mean_slope)\n",
    "# plt.show()\n",
    "# plt.close()"
   ]
  },
  {
   "cell_type": "code",
   "execution_count": null,
   "metadata": {},
   "outputs": [],
   "source": []
  }
 ],
 "metadata": {
  "kernelspec": {
   "display_name": "Python 3",
   "language": "python",
   "name": "python3"
  },
  "language_info": {
   "codemirror_mode": {
    "name": "ipython",
    "version": 3
   },
   "file_extension": ".py",
   "mimetype": "text/x-python",
   "name": "python",
   "nbconvert_exporter": "python",
   "pygments_lexer": "ipython3",
   "version": "3.7.3"
  }
 },
 "nbformat": 4,
 "nbformat_minor": 2
}
