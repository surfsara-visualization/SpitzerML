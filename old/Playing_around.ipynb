{
 "cells": [
  {
   "cell_type": "code",
   "execution_count": 48,
   "id": "bbd37e0a",
   "metadata": {},
   "outputs": [],
   "source": [
    "import tensorflow as tf\n",
    "import numpy as np"
   ]
  },
  {
   "cell_type": "code",
   "execution_count": 94,
   "id": "cd668c54",
   "metadata": {},
   "outputs": [
    {
     "data": {
      "text/plain": [
       "<tf.Tensor: id=840, shape=(1,), dtype=float64, numpy=array([0.36])>"
      ]
     },
     "execution_count": 94,
     "metadata": {},
     "output_type": "execute_result"
    }
   ],
   "source": [
    "x = tf.Variable(np.random.randint(0,100, size=5).reshape((5, 1)))/100\n",
    "W = tf.Variable(np.random.randint(0,100, size=5).reshape((5, 1)))/100\n",
    "b = tf.Variable(np.random.randint(0,100, size=1).reshape((1)))/100\n",
    "\n",
    "b"
   ]
  },
  {
   "cell_type": "code",
   "execution_count": 89,
   "id": "55dd628d",
   "metadata": {},
   "outputs": [],
   "source": [
    "def f(W, x, b):\n",
    "    return W @ tf.transpose(x) + b"
   ]
  },
  {
   "cell_type": "code",
   "execution_count": 105,
   "id": "c0071198",
   "metadata": {},
   "outputs": [],
   "source": [
    "alpha = 0.001"
   ]
  },
  {
   "cell_type": "code",
   "execution_count": 107,
   "id": "40cbd843",
   "metadata": {},
   "outputs": [],
   "source": [
    "with tf.GradientTape() as tape:\n",
    "    tape.watch([W, b])\n",
    "    y = f(W, x, b)**2\n",
    "\n",
    "g = tape.gradient(y,{\"W\":W, \"b\":b})\n",
    "\n",
    "W = W - alpha * g['W']\n",
    "b = b - alpha * g['b']"
   ]
  },
  {
   "cell_type": "code",
   "execution_count": 103,
   "id": "f1031465",
   "metadata": {},
   "outputs": [
    {
     "data": {
      "text/plain": [
       "{'W': <tf.Tensor: id=925, shape=(5, 1), dtype=float64, numpy=\n",
       " array([[3.49048],\n",
       "        [3.94912],\n",
       "        [7.00672],\n",
       "        [4.66256],\n",
       "        [2.47128]])>,\n",
       " 'b': <tf.Tensor: id=924, shape=(1,), dtype=float64, numpy=array([30.6224])>}"
      ]
     },
     "execution_count": 103,
     "metadata": {},
     "output_type": "execute_result"
    }
   ],
   "source": [
    "g"
   ]
  },
  {
   "cell_type": "code",
   "execution_count": null,
   "id": "cd57ae0f",
   "metadata": {},
   "outputs": [],
   "source": []
  },
  {
   "cell_type": "code",
   "execution_count": null,
   "id": "557b9151",
   "metadata": {},
   "outputs": [],
   "source": []
  }
 ],
 "metadata": {
  "kernelspec": {
   "display_name": "Python 3",
   "language": "python",
   "name": "python3"
  },
  "language_info": {
   "codemirror_mode": {
    "name": "ipython",
    "version": 3
   },
   "file_extension": ".py",
   "mimetype": "text/x-python",
   "name": "python",
   "nbconvert_exporter": "python",
   "pygments_lexer": "ipython3",
   "version": "3.7.10"
  }
 },
 "nbformat": 4,
 "nbformat_minor": 5
}
