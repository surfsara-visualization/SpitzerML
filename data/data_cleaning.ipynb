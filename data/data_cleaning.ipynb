{
 "cells": [
  {
   "cell_type": "markdown",
   "metadata": {},
   "source": [
    "# Cleaning the Spitzer spectra"
   ]
  },
  {
   "cell_type": "markdown",
   "metadata": {},
   "source": [
    "8 March 2021, Ben de Vries"
   ]
  },
  {
   "cell_type": "code",
   "execution_count": 2,
   "metadata": {},
   "outputs": [],
   "source": [
    "import pandas as pd\n",
    "import numpy as np\n",
    "import matplotlib.pyplot as plt\n",
    "import os"
   ]
  },
  {
   "cell_type": "markdown",
   "metadata": {},
   "source": [
    "Here we collect all the file names in the data directory."
   ]
  },
  {
   "cell_type": "code",
   "execution_count": 3,
   "metadata": {},
   "outputs": [
    {
     "data": {
      "text/plain": [
       "26"
      ]
     },
     "execution_count": 3,
     "metadata": {},
     "output_type": "execute_result"
    }
   ],
   "source": [
    "directory = \"data/raw/TTau/IRS-Christian/\"\n",
    "files = os.listdir(directory)\n",
    "len(files)"
   ]
  },
  {
   "cell_type": "markdown",
   "metadata": {},
   "source": [
    "## Rebin the data to one wavelength grid"
   ]
  },
  {
   "cell_type": "markdown",
   "metadata": {},
   "source": [
    "Some of the data has different resolutions and ranges so I bin them to one wavelength range. The resolution is about 0.25micron, which still makes us able to see crystalline dust resonances (which have a width of ~1-2 micron)."
   ]
  },
  {
   "cell_type": "code",
   "execution_count": 4,
   "metadata": {},
   "outputs": [
    {
     "data": {
      "text/plain": [
       "array([ 5.  ,  5.25,  5.5 ,  5.75,  6.  ,  6.25,  6.5 ,  6.75,  7.  ,\n",
       "        7.25,  7.5 ,  7.75,  8.  ,  8.25,  8.5 ,  8.75,  9.  ,  9.25,\n",
       "        9.5 ,  9.75, 10.  , 10.25, 10.5 , 10.75, 11.  , 11.25, 11.5 ,\n",
       "       11.75, 12.  , 12.25, 12.5 , 12.75, 13.  , 13.25, 13.5 , 13.75,\n",
       "       14.  , 14.25, 14.5 , 14.75, 15.  , 15.25, 15.5 , 15.75, 16.  ,\n",
       "       16.25, 16.5 , 16.75, 17.  , 17.25, 17.5 , 17.75, 18.  , 18.25,\n",
       "       18.5 , 18.75, 19.  , 19.25, 19.5 , 19.75, 20.  , 20.25, 20.5 ,\n",
       "       20.75, 21.  , 21.25, 21.5 , 21.75, 22.  , 22.25, 22.5 , 22.75,\n",
       "       23.  , 23.25, 23.5 , 23.75, 24.  , 24.25, 24.5 , 24.75, 25.  ,\n",
       "       25.25, 25.5 , 25.75, 26.  , 26.25, 26.5 , 26.75, 27.  , 27.25,\n",
       "       27.5 , 27.75, 28.  , 28.25, 28.5 , 28.75, 29.  , 29.25, 29.5 ,\n",
       "       29.75, 30.  , 30.25, 30.5 , 30.75, 31.  , 31.25, 31.5 , 31.75,\n",
       "       32.  , 32.25, 32.5 , 32.75, 33.  , 33.25, 33.5 , 33.75, 34.  ,\n",
       "       34.25, 34.5 , 34.75, 35.  ])"
      ]
     },
     "execution_count": 4,
     "metadata": {},
     "output_type": "execute_result"
    }
   ],
   "source": [
    "bins = np.linspace(5.,35., num=121)#[0, 5,10,15,20,25,30,35,40]\n",
    "new_wavelength = []\n",
    "for i in range(len(bins)):\n",
    "    if i < len(bins)-1: \n",
    "        new_wavelength.append(bins[i]+(bins[i+1]-bins[i])/2)\n",
    "bins"
   ]
  },
  {
   "cell_type": "markdown",
   "metadata": {},
   "source": [
    "I read in and rebin all the files. The original spectra are stored in a dict ```specs``` and the rebinned ones are stored in a dataframe ```specs_binned```."
   ]
  },
  {
   "cell_type": "code",
   "execution_count": 5,
   "metadata": {},
   "outputs": [],
   "source": [
    "specs, specs_binned, specs_norm = {}, pd.DataFrame(), pd.DataFrame()\n",
    "for f in files:\n",
    "    obj_name = f.split('.csv')[0] # Get the object name from the file name\n",
    "    s = pd.read_csv(os.path.join(directory, f)) # Read in the csv file for the object\n",
    "    specs.update({'w_'+obj_name: s[\"wavelength\"]}) # add the wavelength and flux to the dict\n",
    "    specs.update({'f_'+obj_name: s[\"flux\"]})\n",
    "    s['wavelength_bins'] = pd.cut(s['wavelength'], bins) # Cut the wavelength into bins\n",
    "    s_bin = s.groupby(['wavelength_bins'])['flux'].mean().reset_index() # Group by bin and average in the bin\n",
    "    specs_binned[obj_name] = s_bin['flux'] # Put the binned fluxes into specs_binned\n",
    "    specs_norm[obj_name] = (s_bin['flux']-s_bin['flux'].mean())/s_bin['flux'].std() # Reduce the feature(flux) \n",
    "                                                                                    # levels for easier use in ML\n"
   ]
  },
  {
   "cell_type": "markdown",
   "metadata": {},
   "source": [
    "## Lets have a look at one of the spectra"
   ]
  },
  {
   "cell_type": "code",
   "execution_count": 9,
   "metadata": {},
   "outputs": [
    {
     "data": {
      "image/png": "[encoded data removed]",
      "text/plain": [
       "<Figure size 432x288 with 1 Axes>"
      ]
     },
     "metadata": {
      "needs_background": "light"
     },
     "output_type": "display_data"
    },
    {
     "data": {
      "text/plain": [
       "True"
      ]
     },
     "execution_count": 9,
     "metadata": {},
     "output_type": "execute_result"
    }
   ],
   "source": [
    "plotfile='BP-Tau'\n",
    "plt.plot(specs['w_'+plotfile], specs['f_'+plotfile], label='original')\n",
    "plt.plot(new_wavelength, specs_binned[plotfile], \".\", label='binned')\n",
    "plt.title(\"Example plot\")\n",
    "plt.legend()\n",
    "plt.show()\n",
    "plt.close()\n",
    "np.isnan(specs_binned[plotfile]).any()"
   ]
  },
  {
   "cell_type": "markdown",
   "metadata": {},
   "source": [
    "And lets see the average spectrum"
   ]
  },
  {
   "cell_type": "code",
   "execution_count": 11,
   "metadata": {},
   "outputs": [
    {
     "data": {
      "image/png": "[encoded data removed]",
      "text/plain": [
       "<Figure size 432x288 with 1 Axes>"
      ]
     },
     "metadata": {
      "needs_background": "light"
     },
     "output_type": "display_data"
    }
   ],
   "source": [
    "plt.plot(new_wavelength, specs_binned.mean(axis=1))\n",
    "plt.title('Average spectrum')\n",
    "plt.show()"
   ]
  },
  {
   "cell_type": "markdown",
   "metadata": {},
   "source": [
    "Now to save the data"
   ]
  },
  {
   "cell_type": "code",
   "execution_count": 9,
   "metadata": {},
   "outputs": [],
   "source": [
    "output_directory = \"data/binned/TTau/IRS-Christian/\""
   ]
  },
  {
   "cell_type": "code",
   "execution_count": 28,
   "metadata": {},
   "outputs": [],
   "source": [
    "pd.DataFrame(new_wavelength).to_csv(os.path.join(output_directory, \"TTau_spectra_binned_wavelength.csv\"), index=False)\n",
    "specs_binned.to_csv(os.path.join(output_directory, \"TTau_spectra_binned_fluxes.csv\"), index=False)"
   ]
  },
  {
   "cell_type": "markdown",
   "metadata": {},
   "source": [
    "And a check"
   ]
  },
  {
   "cell_type": "code",
   "execution_count": 30,
   "metadata": {},
   "outputs": [
    {
     "data": {
      "text/html": [
       "<div>\n",
       "<style scoped>\n",
       "    .dataframe tbody tr th:only-of-type {\n",
       "        vertical-align: middle;\n",
       "    }\n",
       "\n",
       "    .dataframe tbody tr th {\n",
       "        vertical-align: top;\n",
       "    }\n",
       "\n",
       "    .dataframe thead th {\n",
       "        text-align: right;\n",
       "    }\n",
       "</style>\n",
       "<table border=\"1\" class=\"dataframe\">\n",
       "  <thead>\n",
       "    <tr style=\"text-align: right;\">\n",
       "      <th></th>\n",
       "      <th>CX-Tau</th>\n",
       "      <th>SZ50</th>\n",
       "      <th>DF-Tau</th>\n",
       "      <th>DG-Tau</th>\n",
       "      <th>BP-Tau</th>\n",
       "      <th>DR-Tau</th>\n",
       "      <th>GW-Lup</th>\n",
       "      <th>FT-Tau</th>\n",
       "      <th>V1094Sco</th>\n",
       "      <th>DN-Tau</th>\n",
       "      <th>...</th>\n",
       "      <th>WX-Cha</th>\n",
       "      <th>LkCa15</th>\n",
       "      <th>SY-Cha</th>\n",
       "      <th>WA-Oph6</th>\n",
       "      <th>HK-Tau-B</th>\n",
       "      <th>RW-Aur</th>\n",
       "      <th>XX-Cha</th>\n",
       "      <th>SZ98</th>\n",
       "      <th>VW-Cha</th>\n",
       "      <th>wavelength</th>\n",
       "    </tr>\n",
       "  </thead>\n",
       "  <tbody>\n",
       "    <tr>\n",
       "      <th>0</th>\n",
       "      <td>0.094564</td>\n",
       "      <td>0.135032</td>\n",
       "      <td>1.286557</td>\n",
       "      <td>1.864737</td>\n",
       "      <td>0.316833</td>\n",
       "      <td>2.050333</td>\n",
       "      <td>NaN</td>\n",
       "      <td>0.162737</td>\n",
       "      <td>0.135167</td>\n",
       "      <td>0.239397</td>\n",
       "      <td>...</td>\n",
       "      <td>0.511260</td>\n",
       "      <td>0.155042</td>\n",
       "      <td>0.173041</td>\n",
       "      <td>0.915681</td>\n",
       "      <td>0.194190</td>\n",
       "      <td>1.008920</td>\n",
       "      <td>0.138236</td>\n",
       "      <td>0.353582</td>\n",
       "      <td>0.926323</td>\n",
       "      <td>5.125</td>\n",
       "    </tr>\n",
       "    <tr>\n",
       "      <th>1</th>\n",
       "      <td>0.099114</td>\n",
       "      <td>0.146360</td>\n",
       "      <td>1.144572</td>\n",
       "      <td>1.989051</td>\n",
       "      <td>0.330404</td>\n",
       "      <td>1.914572</td>\n",
       "      <td>NaN</td>\n",
       "      <td>0.171933</td>\n",
       "      <td>0.130256</td>\n",
       "      <td>0.228572</td>\n",
       "      <td>...</td>\n",
       "      <td>0.442444</td>\n",
       "      <td>0.153514</td>\n",
       "      <td>0.165710</td>\n",
       "      <td>0.889866</td>\n",
       "      <td>0.190915</td>\n",
       "      <td>0.992892</td>\n",
       "      <td>0.131882</td>\n",
       "      <td>0.337941</td>\n",
       "      <td>0.878628</td>\n",
       "      <td>5.375</td>\n",
       "    </tr>\n",
       "    <tr>\n",
       "      <th>2</th>\n",
       "      <td>0.098763</td>\n",
       "      <td>0.144867</td>\n",
       "      <td>1.054155</td>\n",
       "      <td>2.011706</td>\n",
       "      <td>0.319811</td>\n",
       "      <td>1.881706</td>\n",
       "      <td>NaN</td>\n",
       "      <td>0.163080</td>\n",
       "      <td>0.122607</td>\n",
       "      <td>0.226957</td>\n",
       "      <td>...</td>\n",
       "      <td>0.424629</td>\n",
       "      <td>0.143247</td>\n",
       "      <td>0.159675</td>\n",
       "      <td>0.873766</td>\n",
       "      <td>0.180816</td>\n",
       "      <td>0.949140</td>\n",
       "      <td>0.127940</td>\n",
       "      <td>0.338554</td>\n",
       "      <td>0.834307</td>\n",
       "      <td>5.625</td>\n",
       "    </tr>\n",
       "    <tr>\n",
       "      <th>3</th>\n",
       "      <td>0.098917</td>\n",
       "      <td>0.147476</td>\n",
       "      <td>1.075395</td>\n",
       "      <td>2.110258</td>\n",
       "      <td>0.317471</td>\n",
       "      <td>1.892422</td>\n",
       "      <td>NaN</td>\n",
       "      <td>0.156957</td>\n",
       "      <td>0.123200</td>\n",
       "      <td>0.222620</td>\n",
       "      <td>...</td>\n",
       "      <td>0.422534</td>\n",
       "      <td>0.140699</td>\n",
       "      <td>0.161724</td>\n",
       "      <td>0.861376</td>\n",
       "      <td>0.172734</td>\n",
       "      <td>0.928021</td>\n",
       "      <td>0.126169</td>\n",
       "      <td>0.344466</td>\n",
       "      <td>0.809528</td>\n",
       "      <td>5.875</td>\n",
       "    </tr>\n",
       "    <tr>\n",
       "      <th>4</th>\n",
       "      <td>0.100230</td>\n",
       "      <td>0.150169</td>\n",
       "      <td>1.037847</td>\n",
       "      <td>2.122913</td>\n",
       "      <td>0.321052</td>\n",
       "      <td>1.842032</td>\n",
       "      <td>NaN</td>\n",
       "      <td>0.154219</td>\n",
       "      <td>0.118323</td>\n",
       "      <td>0.223233</td>\n",
       "      <td>...</td>\n",
       "      <td>0.406240</td>\n",
       "      <td>0.132310</td>\n",
       "      <td>0.158932</td>\n",
       "      <td>0.848555</td>\n",
       "      <td>0.170350</td>\n",
       "      <td>0.912182</td>\n",
       "      <td>0.123827</td>\n",
       "      <td>0.349215</td>\n",
       "      <td>0.776016</td>\n",
       "      <td>6.125</td>\n",
       "    </tr>\n",
       "  </tbody>\n",
       "</table>\n",
       "<p>5 rows × 27 columns</p>\n",
       "</div>"
      ],
      "text/plain": [
       "     CX-Tau      SZ50    DF-Tau    DG-Tau    BP-Tau    DR-Tau  GW-Lup  \\\n",
       "0  0.094564  0.135032  1.286557  1.864737  0.316833  2.050333     NaN   \n",
       "1  0.099114  0.146360  1.144572  1.989051  0.330404  1.914572     NaN   \n",
       "2  0.098763  0.144867  1.054155  2.011706  0.319811  1.881706     NaN   \n",
       "3  0.098917  0.147476  1.075395  2.110258  0.317471  1.892422     NaN   \n",
       "4  0.100230  0.150169  1.037847  2.122913  0.321052  1.842032     NaN   \n",
       "\n",
       "     FT-Tau  V1094Sco    DN-Tau  ...    WX-Cha    LkCa15    SY-Cha   WA-Oph6  \\\n",
       "0  0.162737  0.135167  0.239397  ...  0.511260  0.155042  0.173041  0.915681   \n",
       "1  0.171933  0.130256  0.228572  ...  0.442444  0.153514  0.165710  0.889866   \n",
       "2  0.163080  0.122607  0.226957  ...  0.424629  0.143247  0.159675  0.873766   \n",
       "3  0.156957  0.123200  0.222620  ...  0.422534  0.140699  0.161724  0.861376   \n",
       "4  0.154219  0.118323  0.223233  ...  0.406240  0.132310  0.158932  0.848555   \n",
       "\n",
       "   HK-Tau-B    RW-Aur    XX-Cha      SZ98    VW-Cha  wavelength  \n",
       "0  0.194190  1.008920  0.138236  0.353582  0.926323       5.125  \n",
       "1  0.190915  0.992892  0.131882  0.337941  0.878628       5.375  \n",
       "2  0.180816  0.949140  0.127940  0.338554  0.834307       5.625  \n",
       "3  0.172734  0.928021  0.126169  0.344466  0.809528       5.875  \n",
       "4  0.170350  0.912182  0.123827  0.349215  0.776016       6.125  \n",
       "\n",
       "[5 rows x 27 columns]"
      ]
     },
     "execution_count": 30,
     "metadata": {},
     "output_type": "execute_result"
    }
   ],
   "source": [
    "pd.read_csv(os.path.join(output_directory, \"TTau_spectra_binned_fluxes.csv\")).head()"
   ]
  },
  {
   "cell_type": "code",
   "execution_count": 31,
   "metadata": {},
   "outputs": [
    {
     "data": {
      "text/html": [
       "<div>\n",
       "<style scoped>\n",
       "    .dataframe tbody tr th:only-of-type {\n",
       "        vertical-align: middle;\n",
       "    }\n",
       "\n",
       "    .dataframe tbody tr th {\n",
       "        vertical-align: top;\n",
       "    }\n",
       "\n",
       "    .dataframe thead th {\n",
       "        text-align: right;\n",
       "    }\n",
       "</style>\n",
       "<table border=\"1\" class=\"dataframe\">\n",
       "  <thead>\n",
       "    <tr style=\"text-align: right;\">\n",
       "      <th></th>\n",
       "      <th>0</th>\n",
       "    </tr>\n",
       "  </thead>\n",
       "  <tbody>\n",
       "    <tr>\n",
       "      <th>0</th>\n",
       "      <td>5.125</td>\n",
       "    </tr>\n",
       "    <tr>\n",
       "      <th>1</th>\n",
       "      <td>5.375</td>\n",
       "    </tr>\n",
       "    <tr>\n",
       "      <th>2</th>\n",
       "      <td>5.625</td>\n",
       "    </tr>\n",
       "    <tr>\n",
       "      <th>3</th>\n",
       "      <td>5.875</td>\n",
       "    </tr>\n",
       "    <tr>\n",
       "      <th>4</th>\n",
       "      <td>6.125</td>\n",
       "    </tr>\n",
       "  </tbody>\n",
       "</table>\n",
       "</div>"
      ],
      "text/plain": [
       "       0\n",
       "0  5.125\n",
       "1  5.375\n",
       "2  5.625\n",
       "3  5.875\n",
       "4  6.125"
      ]
     },
     "execution_count": 31,
     "metadata": {},
     "output_type": "execute_result"
    }
   ],
   "source": [
    "pd.read_csv(os.path.join(output_directory, \"TTau_spectra_binned_wavelength.csv\")).head()"
   ]
  },
  {
   "cell_type": "code",
   "execution_count": null,
   "metadata": {},
   "outputs": [],
   "source": []
  }
 ],
 "metadata": {
  "kernelspec": {
   "display_name": "Python 3 (ipykernel)",
   "language": "python",
   "name": "python3"
  },
  "language_info": {
   "codemirror_mode": {
    "name": "ipython",
    "version": 3
   },
   "file_extension": ".py",
   "mimetype": "text/x-python",
   "name": "python",
   "nbconvert_exporter": "python",
   "pygments_lexer": "ipython3",
   "version": "3.9.13"
  }
 },
 "nbformat": 4,
 "nbformat_minor": 2
}
