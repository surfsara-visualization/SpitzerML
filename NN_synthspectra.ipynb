{
 "cells": [
  {
   "cell_type": "code",
   "execution_count": 39,
   "id": "c04f5a3c",
   "metadata": {},
   "outputs": [
    {
     "data": {
      "text/plain": [
       "<module 'radiative_models' from 'radiative_models/radiative_models.py'>"
      ]
     },
     "execution_count": 39,
     "metadata": {},
     "output_type": "execute_result"
    }
   ],
   "source": [
    "import sys\n",
    "from importlib import reload\n",
    "import pandas as pd\n",
    "import numpy as np\n",
    "import matplotlib.pyplot as plt\n",
    "import os, random\n",
    "#from sklearn.decomposition import PCA\n",
    "import sklearn.linear_model\n",
    "import tensorflow as tf\n",
    "from tensorflow.keras import layers\n",
    "\n",
    "sys.path.insert(0,'radiative_models')\n",
    "import radiative_models\n",
    "reload(radiative_models)\n",
    "#import radiative_models as rm"
   ]
  },
  {
   "cell_type": "code",
   "execution_count": 3,
   "id": "94a2fac3",
   "metadata": {},
   "outputs": [
    {
     "name": "stdout",
     "output_type": "stream",
     "text": [
      "New resolution:  0.2013 +/- 0.0\n",
      "Nan values:  False\n",
      "New resolution:  0.2013 +/- 0.0\n",
      "Nan values:  False\n"
     ]
    },
    {
     "data": {
      "text/plain": [
       "(10000, 149)"
      ]
     },
     "execution_count": 3,
     "metadata": {},
     "output_type": "execute_result"
    }
   ],
   "source": [
    "X_train, Y_train, grid = radiative_models.generate_opticallythin_spectra(10000)#generate_spectra(10000)\n",
    "X_test, Y_test, grid = radiative_models.generate_opticallythin_spectra(1000)\n",
    "X_train.shape"
   ]
  },
  {
   "cell_type": "markdown",
   "id": "9816df07",
   "metadata": {},
   "source": [
    "## Logistic Regression: sklearn"
   ]
  },
  {
   "cell_type": "code",
   "execution_count": 87,
   "id": "cf9e38fa",
   "metadata": {},
   "outputs": [],
   "source": [
    "def run_LR_tensorflow(X_train, Y_train, X_test, Y_test):\n",
    "    clf = sklearn.linear_model.LogisticRegressionCV(solver='liblinear', cv=2)\n",
    "    clf.fit(X_train, Y_train)\n",
    "    \n",
    "    truePos, falsePos, trueNeg, falseNeg = 0, 0, 0, 0\n",
    "    for i in range(X_test.shape[0]):\n",
    "        if clf.predict(X_test[i,:].reshape(1,149)).flatten():\n",
    "            if Y_test[i]: truePos += 1\n",
    "            else: falsePos += 1\n",
    "        else:\n",
    "            if Y_test[i]: falseNeg += 1\n",
    "            else: trueNeg += 1\n",
    "\n",
    "    precision = round(truePos / (truePos + falsePos) *100,1)\n",
    "    recall = round(truePos / (truePos + falseNeg) *100,1)\n",
    "    f1 = round(precision*recall / (precision + recall),1)\n",
    "    print(\"Precision simple logistic regression: \", precision)\n",
    "    print(\"Recall simple logistic regression: \", recall)\n",
    "    print(\"F1: \", f1)"
   ]
  },
  {
   "cell_type": "code",
   "execution_count": 88,
   "id": "0defde80",
   "metadata": {},
   "outputs": [
    {
     "name": "stdout",
     "output_type": "stream",
     "text": [
      "Precision simple logistic regression:  100.0\n",
      "Recall simple logistic regression:  100.0\n",
      "F1:  50.0\n"
     ]
    }
   ],
   "source": [
    "run_LR_tensorflow(X_train, Y_train, X_test, Y_test)"
   ]
  },
  {
   "cell_type": "markdown",
   "id": "97df4d6b",
   "metadata": {},
   "source": [
    "## Logistic regression tensorflow"
   ]
  },
  {
   "cell_type": "code",
   "execution_count": 78,
   "id": "b717f182",
   "metadata": {},
   "outputs": [],
   "source": [
    "def run_LR_tensorflow(X_train, Y_train, X_test, Y_test, learning_rate=0.005, verbose=0):\n",
    "\n",
    "    def make_NN_simpleregression_model(input_shape):\n",
    "        input_data = tf.keras.Input(shape=input_shape)\n",
    "    #    D1 = tf.keras.layers.Dense(units= 10, activation='sigmoid')(input_data)\n",
    "        outputs = tf.keras.layers.Dense(units= 1, activation='sigmoid')(input_data)\n",
    "        model = tf.keras.Model(inputs=input_data, outputs=outputs)\n",
    "        return model\n",
    "\n",
    "    NN_model = make_NN_simpleregression_model((X_train.shape[1],))\n",
    "\n",
    "    NN_model.compile(optimizer=tf.keras.optimizers.Adam(learning_rate=learning_rate),#,#clipnorm=1,#epsilon=1e-5\n",
    "                     loss=tf.keras.losses.MeanSquaredError(),#'binary_crossentropy',#\n",
    "                     metrics=[tf.keras.metrics.Precision(name='precision'), \n",
    "                               tf.keras.metrics.Recall(name='recall')])\n",
    "    #NN_model.summary()\n",
    "\n",
    "    train_dataset = tf.data.Dataset.from_tensor_slices((X_train, Y_train)).batch(64)\n",
    "    test_dataset = tf.data.Dataset.from_tensor_slices((X_test, Y_test)).batch(64)\n",
    "\n",
    "    history = NN_model.fit(train_dataset, epochs=100, validation_data=test_dataset, verbose=0)\n",
    "\n",
    "    return history, NN_model"
   ]
  },
  {
   "cell_type": "code",
   "execution_count": 82,
   "id": "718e12cf",
   "metadata": {},
   "outputs": [
    {
     "name": "stdout",
     "output_type": "stream",
     "text": [
      "alpha:  0.01 precision:  0.9967213 recall:  0.9854133\n",
      "alpha:  0.005 precision:  0.9918434 recall:  0.9854133\n",
      "alpha:  0.001 precision:  0.9234234 recall:  0.9967585\n",
      "alpha:  0.0005 precision:  0.89404935 recall:  0.99837923\n"
     ]
    }
   ],
   "source": [
    "results = []\n",
    "for alpha in [0.01,0.005,0.001,0.0005]:\n",
    "    history, model = run_LR_tensorflow(X_train, Y_train, X_test, Y_test, learning_rate=alpha)\n",
    "    results.append([alpha, history, model])\n",
    "    print('alpha: ', alpha, 'precision: ', history.history['val_precision'][-1], 'recall: ', history.history['val_recall'][-1])"
   ]
  },
  {
   "cell_type": "code",
   "execution_count": 84,
   "id": "a9599a9d",
   "metadata": {},
   "outputs": [
    {
     "name": "stderr",
     "output_type": "stream",
     "text": [
      "/Users/benv/anaconda3/envs/astroml/lib/python3.7/site-packages/pandas/core/frame.py:4449: SettingWithCopyWarning: \n",
      "A value is trying to be set on a copy of a slice from a DataFrame\n",
      "\n",
      "See the caveats in the documentation: https://pandas.pydata.org/pandas-docs/stable/user_guide/indexing.html#returning-a-view-versus-a-copy\n",
      "  errors=errors,\n"
     ]
    },
    {
     "data": {
      "text/plain": [
       "[Text(0.5, 0, 'Epoch'), Text(0, 0.5, 'Precision')]"
      ]
     },
     "execution_count": 84,
     "metadata": {},
     "output_type": "execute_result"
    },
    {
     "data": {
      "image/png": "[encoded data removed]",
      "text/plain": [
       "<Figure size 432x288 with 1 Axes>"
      ]
     },
     "metadata": {
      "needs_background": "light"
     },
     "output_type": "display_data"
    },
    {
     "data": {
      "image/png": "[encoded data removed]",
      "text/plain": [
       "<Figure size 432x288 with 1 Axes>"
      ]
     },
     "metadata": {
      "needs_background": "light"
     },
     "output_type": "display_data"
    }
   ],
   "source": [
    "# The history.history[\"loss\"] entry is a dictionary with as many values as epochs that the\n",
    "# model was trained on. \n",
    "history = results[1][1]\n",
    "df_loss_acc = pd.DataFrame(history.history)\n",
    "df_loss= df_loss_acc[['loss','val_loss']]\n",
    "df_loss.rename(columns={'loss':'train','val_loss':'validation'},inplace=True)\n",
    "#df_acc= df_loss_acc[['accuracy','val_accuracy']]\n",
    "df_acc= df_loss_acc[['precision','val_precision']]\n",
    "df_acc.rename(columns={'precision':'train','val_precision':'validation'},inplace=True)\n",
    "df_loss.plot(title='Model loss',figsize=(6,4)).set(xlabel='Epoch',ylabel='Loss')\n",
    "df_acc.plot(title='Model precision',figsize=(6,4)).set(xlabel='Epoch',ylabel='Precision')"
   ]
  },
  {
   "cell_type": "code",
   "execution_count": null,
   "id": "611d1e92",
   "metadata": {},
   "outputs": [],
   "source": []
  }
 ],
 "metadata": {
  "kernelspec": {
   "display_name": "Python 3",
   "language": "python",
   "name": "python3"
  },
  "language_info": {
   "codemirror_mode": {
    "name": "ipython",
    "version": 3
   },
   "file_extension": ".py",
   "mimetype": "text/x-python",
   "name": "python",
   "nbconvert_exporter": "python",
   "pygments_lexer": "ipython3",
   "version": "3.7.10"
  }
 },
 "nbformat": 4,
 "nbformat_minor": 5
}
