{
 "cells": [
  {
   "cell_type": "markdown",
   "metadata": {
    "id": "L4QhlldBTY1y"
   },
   "source": [
    "We will implement the following formula from Juhasz et al 2009:\n",
    "\n",
    "$F_{\\nu} = F_{\\nu, cont} + \\sum_{i = 1}^{N}\\sum_{j = 1}^{M} D_{i,j} \\kappa_{i,j} \\frac{2 \\pi}{d^2} \\int_{T_{atm,max}}^{T_{atm,min}}  B_{\\nu}(T) T^{\\frac{2-qatm}{qatm}} dT $\n",
    "\n",
    "With\n",
    "\n",
    "$D_{i,j} = \\frac{q_{atm}}{T_{atm,max}^{-2/q} R^2_{in}} C_{i,j}   $\n",
    "\n",
    "**NOTE**: is this term correct: $T_{atm,max}^{-2/q}$? It is written in the paper as $T_{atm,max^{-2/q}}$.... \n",
    "\n",
    "Further:\n",
    "\n",
    "$F_{\\nu, cont} = F_{star} + F_{rim} + F_{mid}  $\n",
    "\n",
    "With:\n",
    "\n",
    "$F_{star} = C_{0} \\frac{\\pi R^2_{\\ast}}{d^2} B_{\\nu}(T_{\\ast})$\n",
    "\n",
    "$F_{rim} = C_1 \\int_{R_{in}}^{R_{rim}} \\frac{2 \\pi r}{d^2} B_{\\nu}(T_{rim}(r)) dr = \n",
    "C_1 D_{rim}\\frac{2 \\pi}{d^2} \\int_{T_{rim, max}}^{T_{rim}(R_{rim})} B_{\\nu}(T) T^{\\frac{2-qrim}{qrim}} dT$\n",
    "\n",
    "$D_{rim} = \\frac{q_{rim}}{T_{rim,max}^{-2/q} R^2_{in}} C_{i,j}  $\n",
    "\n",
    "$T_{rim}(R_{rim}) = T_{rim, max} \\left(\\frac{R_{rim}}{R_{in}}\\right) ^{q_{rim}}$\n",
    "\n",
    "$F_{mid} = C_2 \\int_{R_{rim}}^{R_{out}} \\frac{2 \\pi r}{d^2} B_{\\nu}(T_{mid}(r)) dr = \n",
    "C_2 D_{mid} \\frac{2 \\pi}{d^2} \\int_{T_{mid, max}}^{T_{mid}(R_{out})} B_{\\nu}(T) T^{\\frac{2-qmid}{qmid}} dT  $\n",
    "\n",
    "$T_{mid}(R_{out}) = T_{mid,max} \\left( \\frac{R_{out}}{R_{rim}} \\right) ^{q_{mid}}$"
   ]
  },
  {
   "cell_type": "code",
   "execution_count": null,
   "metadata": {
    "id": "9vM09aYvS98m"
   },
   "outputs": [],
   "source": [
    "a=1"
   ]
  },
  {
   "cell_type": "code",
   "execution_count": null,
   "metadata": {
    "id": "HUK1yHhYwNMx"
   },
   "outputs": [],
   "source": []
  },
  {
   "cell_type": "code",
   "execution_count": null,
   "metadata": {
    "id": "cK_faKIXwNcY"
   },
   "outputs": [],
   "source": []
  },
  {
   "cell_type": "code",
   "execution_count": 6,
   "metadata": {
    "id": "PiLQUCefwNqE"
   },
   "outputs": [],
   "source": [
    "import numpy as np"
   ]
  },
  {
   "cell_type": "markdown",
   "metadata": {
    "id": "lSISKE8ZwOhi"
   },
   "source": [
    "# New Section"
   ]
  },
  {
   "cell_type": "code",
   "execution_count": 12,
   "metadata": {},
   "outputs": [],
   "source": [
    "def B(lambd, T, micron=True):\n",
    "    c = 299792458 # metres per second.\n",
    "    h = 6.62607015e-34 # joule second\n",
    "    k = 1.380649e-23 # joule per kelvin (K)\n",
    "\n",
    "    if micron:\n",
    "        lambd = lambd*1e-6\n",
    "    return (2*h*c**2/lambd**5) * 1 / (np.exp(h*c/(k*T*lambd))-1)\n"
   ]
  },
  {
   "cell_type": "code",
   "execution_count": 27,
   "metadata": {
    "id": "LVBHMtsJVbmg"
   },
   "outputs": [],
   "source": [
    "def integrateBnu(T_from, T_to, nr_steps, q):\n",
    "    step_size = (T_to-T_from)/nr_steps\n",
    "#    numpy.zeros(nr_steps)\n",
    "#    def T(i):\n",
    "    \n",
    "    def integrand(i):\n",
    "        return B(10, T_from + i*step_size)*(T_from + i*step_size)**((2-q)/q)\n",
    "        \n",
    "    B_T = np.fromfunction(lambda i: integrand(i), (nr_steps,))\n",
    "\n",
    "    return np.sum(B_T)*step_size\n",
    "  "
   ]
  },
  {
   "cell_type": "code",
   "execution_count": 28,
   "metadata": {},
   "outputs": [
    {
     "data": {
      "text/plain": [
       "116801341147.3172"
      ]
     },
     "execution_count": 28,
     "metadata": {},
     "output_type": "execute_result"
    }
   ],
   "source": [
    "integrateBnu(T_from=100, T_to=300, nr_steps=120, q=1)"
   ]
  },
  {
   "cell_type": "code",
   "execution_count": 12,
   "metadata": {},
   "outputs": [
    {
     "data": {
      "text/plain": [
       "array([0., 1.])"
      ]
     },
     "execution_count": 12,
     "metadata": {},
     "output_type": "execute_result"
    }
   ],
   "source": [
    "np.fromfunction(lambda i: i, (2,), dtype=float)"
   ]
  },
  {
   "cell_type": "code",
   "execution_count": null,
   "metadata": {},
   "outputs": [],
   "source": []
  }
 ],
 "metadata": {
  "colab": {
   "authorship_tag": "ABX9TyPfh4TIZW3eUMvXVn52r3kV",
   "collapsed_sections": [],
   "mount_file_id": "17VP2XtN05R4XPTS7ZrTgT1WT-B16XmNz",
   "provenance": []
  },
  "kernelspec": {
   "display_name": "Python 3 (ipykernel)",
   "language": "python",
   "name": "python3"
  },
  "language_info": {
   "codemirror_mode": {
    "name": "ipython",
    "version": 3
   },
   "file_extension": ".py",
   "mimetype": "text/x-python",
   "name": "python",
   "nbconvert_exporter": "python",
   "pygments_lexer": "ipython3",
   "version": "3.7.10"
  }
 },
 "nbformat": 4,
 "nbformat_minor": 1
}
