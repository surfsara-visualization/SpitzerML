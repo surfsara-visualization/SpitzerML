{
 "cells": [
  {
   "cell_type": "code",
   "execution_count": 46,
   "id": "9f81effb",
   "metadata": {},
   "outputs": [
    {
     "name": "stdout",
     "output_type": "stream",
     "text": [
      "2.9.1\n"
     ]
    }
   ],
   "source": [
    "import sys\n",
    "from importlib import reload\n",
    "import pandas as pd\n",
    "import numpy as np\n",
    "import matplotlib.pyplot as plt\n",
    "import os, random\n",
    "\n",
    "from IPython.display import display\n",
    "\n",
    "#from sklearn.decomposition import PCA\n",
    "import sklearn.linear_model\n",
    "import tensorflow as tf\n",
    "from tensorflow.keras import layers\n",
    "from tensorflow.python.keras.utils.vis_utils import plot_model\n",
    "\n",
    "print(tf.version.VERSION)\n"
   ]
  },
  {
   "cell_type": "code",
   "execution_count": 47,
   "id": "bd55b7b6",
   "metadata": {},
   "outputs": [
    {
     "name": "stdout",
     "output_type": "stream",
     "text": [
      "The tensorboard extension is already loaded. To reload it, use:\n",
      "  %reload_ext tensorboard\n"
     ]
    }
   ],
   "source": [
    "%load_ext tensorboard"
   ]
  },
  {
   "cell_type": "code",
   "execution_count": 48,
   "id": "58e8aa5f",
   "metadata": {},
   "outputs": [],
   "source": [
    "#%tensorboard --logdir logs/fit"
   ]
  },
  {
   "cell_type": "markdown",
   "id": "1ca89c1b",
   "metadata": {},
   "source": [
    "# Helper functions"
   ]
  },
  {
   "cell_type": "code",
   "execution_count": 49,
   "id": "7d509065",
   "metadata": {},
   "outputs": [],
   "source": [
    "def rebin(s, bins, wavelength_col = \"w\", value_col = \"a\", handle_nan = False):\n",
    "    s['w_bins'] = pd.cut(s[wavelength_col], bins) # Cut the wavelength into bins\n",
    "    s_bin = s.groupby(['w_bins'])[value_col].mean().reset_index() # Group by bin and average in the bin\n",
    "    s = np.array(s_bin[value_col])\n",
    "    if handle_nan:\n",
    "        found = np.isnan(s)\n",
    "        if found.any():\n",
    "            s = [0 if found[i] else s[i] for i in range(len(s))]\n",
    "        s = np.array(s)\n",
    "    return s\n",
    "\n",
    "def generate_bins(nr_bins):\n",
    "    # Rebin the opacities\n",
    "    bins = np.linspace(5.,35., num=nr_bins)#121)#[0, 5,10,15,20,25,30,35,40]\n",
    "    new_wavelength = []\n",
    "    for i in range(len(bins)):\n",
    "        if i < len(bins)-1: \n",
    "            new_wavelength.append(bins[i]+(bins[i+1]-bins[i])/2)\n",
    "    new_wavelength = np.array(new_wavelength)\n",
    "\n",
    "    return bins, new_wavelength\n",
    "\n",
    "def get_opacs(nr_bins=150):\n",
    "    # Read in the opacities\n",
    "    directory = \"opacities\"\n",
    "    file_forsterite = 'Forsterite0.1.Kabs'\n",
    "    opac_fo = np.loadtxt(os.path.join(directory, file_forsterite))\n",
    "    file_amorphSilicate = 'AmorphousOlivineX0.5_0.1.Kabs'\n",
    "    opac_am = np.loadtxt(os.path.join(directory, file_amorphSilicate))\n",
    "    file_enstatite = 'Enstatite0.1.Kabs'\n",
    "    opac_en = np.loadtxt(os.path.join(directory, file_enstatite))\n",
    "\n",
    "    bins, new_wavelength = generate_bins(nr_bins)\n",
    "\n",
    "    res = new_wavelength[1:-1] - new_wavelength[0:-2]\n",
    "    opac_fo_df = pd.DataFrame(opac_fo, columns=['w', 'a'])\n",
    "    opac_am_df = pd.DataFrame(opac_am, columns=['w', 'a'])\n",
    "    opac_en_df = pd.DataFrame(opac_en, columns=['w', 'a'])\n",
    "\n",
    "    opac_fo_bin = rebin(opac_fo_df, bins)\n",
    "    opac_en_bin = rebin(opac_en_df, bins)\n",
    "    opac_am_bin = rebin(opac_am_df, bins)\n",
    "\n",
    "    return new_wavelength, [opac_fo_bin, opac_en_bin, opac_am_bin]\n",
    "\n",
    "def calc_spectra(a_fo, a_en, a_am, T, nr_bins=150, opacs=[]):\n",
    "\n",
    "    def B(lambd, T, micron=True):\n",
    "        c = 299792458 # metres per second.\n",
    "        h = 6.62607015e-34 # joule second\n",
    "        k = 1.380649e-23 # joule per kelvin (K)\n",
    "\n",
    "        if micron:\n",
    "            lambd = lambd*1e-6\n",
    "        return (2*h*c**2/lambd**5) * 1 / (np.exp(h*c/(k*T*lambd))-1)\n",
    "\n",
    "    def syn_spec(w, a, opac, T):\n",
    "        spec = np.zeros(opac[0].shape)\n",
    "        for i in range(len(a)):\n",
    "            spec = spec + a[i]*opac[i]\n",
    "        f = B(w, T) * spec\n",
    "        f = f/f.max()\n",
    "        return f\n",
    "    \n",
    "    if len(opacs) == 0:\n",
    "        w, opacs = get_opacs(nr_bins)\n",
    "    else:\n",
    "        w, opacs = opacs\n",
    "\n",
    "    return w, syn_spec(w, (a_fo, a_en, a_am), opacs, T)\n",
    "\n",
    "def generate_opticallythin_spectra(nr, nr_bins=150, \\\n",
    "        cr_a_min = 0, cr_a_max = 8, \\\n",
    "        T_min = 100, T_max = 300, \\\n",
    "        norm = True):\n",
    "\n",
    "    # Generate parameters of the radiative model\n",
    "\n",
    "    a_fo = np.array([random.uniform(cr_a_min,cr_a_max) for i in range(nr)])\n",
    "    a_en = np.array([random.uniform(cr_a_min,cr_a_max) for i in range(nr)])\n",
    "    a_am = [100-(a_fo[i]+a_en[i]) for i in range(nr)]\n",
    "    Ts = np.array([random.uniform(T_min,T_max) for i in range(nr)])\n",
    "    \n",
    "    w, opacs = get_opacs(nr_bins=150)\n",
    "\n",
    "\n",
    "    specs = np.array([calc_spectra(a_fo[i], a_en[i], a_am[i], Ts[i], nr_bins, [w,opacs])[1] for i in range(len(a_fo))])\n",
    "    \n",
    "    if norm:\n",
    "        a_fo = a_fo/max(a_fo)#cr_a_max\n",
    "        a_en = a_en/max(a_en)#cr_a_max\n",
    "        Ts = Ts/max(Ts)#T_max\n",
    "\n",
    "    grid = np.array([a_fo, a_en, Ts]).T\n",
    "    \n",
    "    return specs, grid"
   ]
  },
  {
   "cell_type": "markdown",
   "id": "bb0dcf50",
   "metadata": {},
   "source": [
    "# From spectrum to parameters"
   ]
  },
  {
   "cell_type": "markdown",
   "id": "8f7d254e",
   "metadata": {},
   "source": [
    "### The data"
   ]
  },
  {
   "cell_type": "code",
   "execution_count": 50,
   "id": "24bc2ae0",
   "metadata": {},
   "outputs": [],
   "source": [
    "def get_data(nr_train = 10000):\n",
    "    nr_test = int(0.2* nr_train)\n",
    "    X_train, train_grid = generate_opticallythin_spectra(nr_train, T_min = 50, T_max = 500)\n",
    "    X_test, test_grid = generate_opticallythin_spectra(nr_test, T_min = 50, T_max = 500)\n",
    "\n",
    "    return X_train, train_grid, X_test, test_grid\n",
    "\n",
    "# SHUFFLE??\n",
    "#df = df.iloc[np.random.permutation(len(df))]"
   ]
  },
  {
   "cell_type": "markdown",
   "id": "5ee013a5",
   "metadata": {},
   "source": [
    "## Fit all params with one output"
   ]
  },
  {
   "cell_type": "code",
   "execution_count": null,
   "id": "fcc56586",
   "metadata": {},
   "outputs": [],
   "source": []
  },
  {
   "cell_type": "code",
   "execution_count": 51,
   "id": "27c61714",
   "metadata": {},
   "outputs": [],
   "source": [
    "def run_one_outputs(X_train, Y_train, X_test, Y_test, neurons = 128,\\\n",
    "                           learning_rate=0.005, epochs = 100, verbose=0, save_to=\"\"):\n",
    "\n",
    "    def make_NN_model(input_shape):\n",
    "        input_data = tf.keras.Input(shape=input_shape)\n",
    "        D1 = tf.keras.layers.Dense(units= neurons, activation='relu')(input_data)\n",
    "    \n",
    "        output = tf.keras.layers.Dense(units= 3, name='output')(D1)\n",
    "        model = tf.keras.Model(inputs=input_data, outputs=output)\n",
    "        return model\n",
    "\n",
    "    NN_model = make_NN_model((X_train.shape[1],))\n",
    "    print(NN_model.summary())\n",
    "    opt = tf.keras.optimizers.Adam(learning_rate=learning_rate)\n",
    "    metrics={'output': tf.keras.metrics.RootMeanSquaredError()}\n",
    "    loss = {'output': 'mse'}\n",
    "\n",
    "    NN_model.compile(optimizer=opt,\n",
    "                     loss=loss,\n",
    "                     metrics=metrics)\n",
    "\n",
    "    history = NN_model.fit(X_train, Y_train, epochs=epochs, \\\n",
    "                                batch_size=10,\\\n",
    "                                validation_data=(X_test, Y_test), verbose=verbose,\\\n",
    "                                #callbacks=[cp_callback]\\\n",
    "                                )\n",
    "    if (save_to != \"\"):\n",
    "        NN_model.save(save_to)\n",
    "\n",
    "\n",
    "    \n",
    "    return history, NN_model"
   ]
  },
  {
   "cell_type": "code",
   "execution_count": 56,
   "id": "75257c77",
   "metadata": {},
   "outputs": [
    {
     "name": "stdout",
     "output_type": "stream",
     "text": [
      "Model read from disk\n",
      "Model: \"model_13\"\n",
      "_________________________________________________________________\n",
      " Layer (type)                Output Shape              Param #   \n",
      "=================================================================\n",
      " input_14 (InputLayer)       [(None, 149)]             0         \n",
      "                                                                 \n",
      " dense_13 (Dense)            (None, 128)               19200     \n",
      "                                                                 \n",
      " output (Dense)              (None, 3)                 387       \n",
      "                                                                 \n",
      "=================================================================\n",
      "Total params: 19,587\n",
      "Trainable params: 19,587\n",
      "Non-trainable params: 0\n",
      "_________________________________________________________________\n",
      "313/313 - 0s - loss: 9.7898e-04 - root_mean_squared_error: 0.0313 - 425ms/epoch - 1ms/step\n"
     ]
    }
   ],
   "source": [
    "hyperp, results, models = [], [], []\n",
    "for p in [{'a': 0.01, 'n': 128, 'e':20, 'nr_train':10000},#000},\n",
    "         ]:\n",
    "    alpha = p['a']\n",
    "    neurons = p['n']\n",
    "    epochs = p['e']\n",
    "    nr_train = p['nr_train']\n",
    "    \n",
    "    X_train, Y_train, X_test, Y_test = get_data(nr_train)\n",
    "\n",
    "    checkpoint_path = \"NN_synthspectra_simple_final_models/spec-to-param/model\"\n",
    "    checkpoint_dir = os.path.dirname(checkpoint_path)\n",
    "    try:\n",
    "        model = tf.keras.models.load_model(checkpoint_path)\n",
    "        print(\"Model read from disk\")\n",
    "        model.summary()\n",
    "        loss, acc = model.evaluate(X_train, Y_train, verbose=2)\n",
    "    except:\n",
    "        print(\"No model found\")\n",
    "\n",
    "        history, model = run_one_outputs(\n",
    "            X_train, Y_train, X_test, Y_test,\n",
    "            neurons = neurons, learning_rate=alpha, \n",
    "            epochs = epochs, verbose=1, save_to = checkpoint_path)\n",
    "        \n",
    "        plt.plot(history.history['loss'])\n",
    "        plt.xlabel(\"Epoch\")\n",
    "        plt.ylabel(\"Loss\")\n",
    "        plt.show()\n",
    "        plt.close()\n",
    "    hyperp.append([alpha, neurons, epochs,nr_train])\n",
    "    models.append(model)\n",
    "#     results.append([history.history['loss'][-1], \n",
    "#                         history, model.predict(X_test),\n",
    "#                         model, Y_test])\n",
    "    #print('nr_train: ', nr_train, 'neurons: ', neurons, 'alpha: ', alpha, 'epochs: ', epochs, 'loss: ', history.history['loss'][-1])"
   ]
  },
  {
   "cell_type": "code",
   "execution_count": 55,
   "id": "d3292673",
   "metadata": {},
   "outputs": [
    {
     "name": "stdout",
     "output_type": "stream",
     "text": [
      "32/32 [==============================] - 0s 1ms/step\n",
      "32/32 [==============================] - 0s 1ms/step\n",
      "32/32 [==============================] - 0s 1ms/step\n"
     ]
    },
    {
     "data": {
      "image/png": "[encoded data removed]",
      "text/plain": [
       "<Figure size 640x480 with 1 Axes>"
      ]
     },
     "metadata": {},
     "output_type": "display_data"
    }
   ],
   "source": [
    "X_train, Y_train, X_test, Y_test = get_data(1000)\n",
    "for i in range(3):\n",
    "    Y_pred = list(zip(*models[0].predict(X_train)))[i]\n",
    "    plt.scatter( list(zip(*Y_train))[i], Y_pred)"
   ]
  },
  {
   "cell_type": "code",
   "execution_count": null,
   "id": "26393621",
   "metadata": {},
   "outputs": [],
   "source": []
  },
  {
   "cell_type": "code",
   "execution_count": null,
   "id": "bb062487",
   "metadata": {},
   "outputs": [],
   "source": []
  },
  {
   "cell_type": "markdown",
   "id": "45d3574d",
   "metadata": {},
   "source": [
    "# Junk"
   ]
  },
  {
   "cell_type": "markdown",
   "id": "f2e456a1",
   "metadata": {},
   "source": [
    "## Model"
   ]
  },
  {
   "cell_type": "code",
   "execution_count": 4,
   "id": "1e24f593",
   "metadata": {},
   "outputs": [],
   "source": [
    "def run_deepNN_two_outputs(X_train, Y_train, X_test, Y_test, neurons = 128,\\\n",
    "                           learning_rate=0.005, epochs = 100, verbose=0):\n",
    "\n",
    "    def make_NN_model(input_shape):\n",
    "        input_data = tf.keras.Input(shape=input_shape)\n",
    "        D_fo1 = tf.keras.layers.Dense(units= neurons, activation='relu')(input_data)\n",
    "        \n",
    "        D_T1 = tf.keras.layers.Dense(units= neurons, activation='relu')(input_data)\n",
    "\n",
    "        output_fo = tf.keras.layers.Dense(units= 1, name='output_fo')(D_fo1)\n",
    "        output_T = tf.keras.layers.Dense(units= 1, name='output_T')(D_T1)\n",
    "        model = tf.keras.Model(inputs=input_data, outputs=[output_fo, output_T])\n",
    "        return model\n",
    "\n",
    "    NN_model = make_NN_model((X_train.shape[1],))\n",
    "\n",
    "    opt = tf.keras.optimizers.Adam(learning_rate=learning_rate)\n",
    "    #opt = tf.keras.optimizers.SGD(lr=learning_rate)\n",
    "    metrics={'output_fo': tf.keras.metrics.RootMeanSquaredError(),\\\n",
    "            'output_T': tf.keras.metrics.RootMeanSquaredError()}\n",
    "    loss = {'output_fo': 'mse',#tf.keras.losses.MeanSquaredError(),\\\n",
    "           'output_T': 'mse'}#tf.keras.losses.MeanSquaredError()}\n",
    "\n",
    "    \n",
    "    NN_model.compile(optimizer=opt,\n",
    "                     loss=loss,\n",
    "                     metrics=metrics)\n",
    "\n",
    "\n",
    "    \n",
    "    history = NN_model.fit(X_train, Y_train, epochs=epochs, \\\n",
    "                           batch_size=10,\\\n",
    "                           validation_data=(X_test, Y_test), verbose=verbose)\n",
    "\n",
    "    \n",
    "    \n",
    "    return history, NN_model"
   ]
  },
  {
   "cell_type": "code",
   "execution_count": 5,
   "id": "0f0773e4",
   "metadata": {},
   "outputs": [
    {
     "name": "stdout",
     "output_type": "stream",
     "text": [
      "New resolution:  0.2013 +/- 0.0\n",
      "149 150 pipo\n",
      "Nan values:  False\n",
      "New resolution:  0.2013 +/- 0.0\n",
      "149 150 pipo\n",
      "Nan values:  False\n",
      "nr_train:  10000 neurons:  alpha:  0.005 epochs:  100 loss:  1.1639794237539172 output_fo_loss:  0.016762067 output_T_loss:  1.1472166\n"
     ]
    },
    {
     "data": {
      "image/png": "[encoded data removed]",
      "text/plain": [
       "<IPython.core.display.Image object>"
      ]
     },
     "metadata": {},
     "output_type": "display_data"
    }
   ],
   "source": [
    "results = []\n",
    "# Does not work: \n",
    "# - One layer does not work\n",
    "# - Two layer do not wor\n",
    "\n",
    "# Starts to work\n",
    "# - Second layer for only forsterite starts to work\n",
    "\n",
    "# Important: got it to work with the Adam optimizer, not the SGD\n",
    "for p in [{'a': 0.005, 'n': 64, 'e':100, 'nr_train':10000},\\\n",
    "          #{'a': 0.001, 'n': 128, 'n2':64, 'n3':32, 'e':20, 'nr_train':10000},\\\n",
    "         ]:\n",
    "    alpha = p['a']\n",
    "    neurons = p['n']\n",
    "    epochs = p['e']\n",
    "    nr_train = p['nr_train']\n",
    "\n",
    "    X_train, Y_train_fo, Y_train_T, X_test, Y_test_fo, Y_test_T = get_data(nr_train)\n",
    "    Y_train = (Y_train_fo, Y_train_T)\n",
    "    Y_test = (Y_test_fo, Y_test_T)\n",
    "    \n",
    "    history, model = run_deepNN_two_outputs(\n",
    "        X_train, Y_train, X_test, Y_test,\n",
    "        neurons = neurons, \\\n",
    "        learning_rate=alpha, \n",
    "        epochs = epochs, verbose=0)\n",
    "    results.append([alpha, neurons, epochs,nr_train,\n",
    "                    history.history['loss'][-1], \n",
    "                    history, model.predict(X_test),\n",
    "                    model, Y_test])\n",
    "    print('nr_train: ', nr_train, 'neurons: ', \\\n",
    "          'alpha: ', alpha, 'epochs: ', epochs, \\\n",
    "          'loss: ', history.history['loss'][-1],\\\n",
    "          'output_fo_loss: ', history.history['output_fo_loss'][-1],\\\n",
    "          'output_T_loss: ', history.history['output_T_loss'][-1],\\\n",
    "         )\n",
    "\n",
    "    display(plot_model(model, show_shapes=True, show_layer_names=True, to_file='outer-model.png'))\n",
    "    \n"
   ]
  },
  {
   "cell_type": "code",
   "execution_count": 6,
   "id": "c7dd37f8",
   "metadata": {},
   "outputs": [
    {
     "data": {
      "image/png": "[encoded data removed]",
      "text/plain": [
       "<Figure size 432x288 with 1 Axes>"
      ]
     },
     "metadata": {
      "needs_background": "light"
     },
     "output_type": "display_data"
    },
    {
     "data": {
      "image/png": "[encoded data removed]",
      "text/plain": [
       "<Figure size 432x288 with 1 Axes>"
      ]
     },
     "metadata": {
      "needs_background": "light"
     },
     "output_type": "display_data"
    },
    {
     "data": {
      "image/png": "[encoded data removed]",
      "text/plain": [
       "<Figure size 432x288 with 1 Axes>"
      ]
     },
     "metadata": {
      "needs_background": "light"
     },
     "output_type": "display_data"
    }
   ],
   "source": [
    "for i in range(len(results)):\n",
    "    plt.plot(results[i][5].history['loss'], \\\n",
    "             label=\"loss\"+\\\n",
    "             \", a: \"+str(results[i][0])+\\\n",
    "             \", n: \"+str(results[i][1])+\\\n",
    "             \", e: \"+str(results[i][2])+\\\n",
    "             \", nr: \"+str(results[i][3])\n",
    "                )\n",
    "plt.legend()\n",
    "plt.show()\n",
    "\n",
    "for i in range(len(results)):\n",
    "    plt.scatter(results[i][6][0], results[i][8][0],\\\n",
    "             label=\"loss\"+\\\n",
    "             \", a: \"+str(results[i][0])+\\\n",
    "             \", n: \"+str(results[i][1])+\\\n",
    "             \", e: \"+str(results[i][2])+\\\n",
    "             \", nr: \"+str(results[i][3])\n",
    "                )\n",
    "plt.legend()\n",
    "plt.show()\n",
    "\n",
    "for i in range(len(results)):\n",
    "    plt.scatter(results[i][6][1], results[i][8][1],\\\n",
    "             label=\"loss\"+\\\n",
    "             \", a: \"+str(results[i][0])+\\\n",
    "             \", n: \"+str(results[i][1])+\\\n",
    "             \", e: \"+str(results[i][2])+\\\n",
    "             \", nr: \"+str(results[i][3])\n",
    "                )\n",
    "plt.legend()\n",
    "plt.show()"
   ]
  },
  {
   "cell_type": "code",
   "execution_count": null,
   "id": "a772cdf8",
   "metadata": {},
   "outputs": [],
   "source": [
    "\n",
    "\n"
   ]
  },
  {
   "cell_type": "code",
   "execution_count": 37,
   "id": "fe770854",
   "metadata": {},
   "outputs": [
    {
     "data": {
      "text/plain": [
       "(10000, 149)"
      ]
     },
     "execution_count": 37,
     "metadata": {},
     "output_type": "execute_result"
    }
   ],
   "source": [
    "X_train.shape"
   ]
  },
  {
   "cell_type": "code",
   "execution_count": 10,
   "id": "51d7545f",
   "metadata": {},
   "outputs": [
    {
     "data": {
      "text/plain": [
       "<tensorflow.python.keras.engine.training.Model at 0x7fdde5f8f090>"
      ]
     },
     "execution_count": 10,
     "metadata": {},
     "output_type": "execute_result"
    }
   ],
   "source": []
  },
  {
   "cell_type": "code",
   "execution_count": 7,
   "id": "dec2e1a7",
   "metadata": {},
   "outputs": [
    {
     "name": "stdout",
     "output_type": "stream",
     "text": [
      "new\n",
      "Excluding:  TW-Hya.csv\n",
      "Number of observed objects:  25\n"
     ]
    }
   ],
   "source": []
  },
  {
   "cell_type": "code",
   "execution_count": 8,
   "id": "b715826d",
   "metadata": {},
   "outputs": [],
   "source": []
  },
  {
   "cell_type": "code",
   "execution_count": 9,
   "id": "c4598a0f",
   "metadata": {},
   "outputs": [
    {
     "data": {
      "text/plain": [
       "[<matplotlib.lines.Line2D at 0x7f89f96f1ed0>]"
      ]
     },
     "execution_count": 9,
     "metadata": {},
     "output_type": "execute_result"
    },
    {
     "data": {
      "image/png": "[encoded data removed]",
      "text/plain": [
       "<Figure size 432x288 with 1 Axes>"
      ]
     },
     "metadata": {
      "needs_background": "light"
     },
     "output_type": "display_data"
    }
   ],
   "source": []
  },
  {
   "cell_type": "code",
   "execution_count": 6,
   "id": "88e542c0",
   "metadata": {},
   "outputs": [
    {
     "data": {
      "text/plain": [
       "(1, 149)"
      ]
     },
     "execution_count": 6,
     "metadata": {},
     "output_type": "execute_result"
    }
   ],
   "source": [
    "s.reshape(1,149).shape"
   ]
  },
  {
   "cell_type": "code",
   "execution_count": 50,
   "id": "a01d6e73",
   "metadata": {},
   "outputs": [
    {
     "data": {
      "text/plain": [
       "[array([[0.9953314]], dtype=float32), array([[402.0963]], dtype=float32)]"
      ]
     },
     "execution_count": 50,
     "metadata": {},
     "output_type": "execute_result"
    }
   ],
   "source": []
  },
  {
   "cell_type": "code",
   "execution_count": null,
   "id": "851f29a7",
   "metadata": {},
   "outputs": [],
   "source": []
  }
 ],
 "metadata": {
  "kernelspec": {
   "display_name": "Python 3 (ipykernel)",
   "language": "python",
   "name": "python3"
  },
  "language_info": {
   "codemirror_mode": {
    "name": "ipython",
    "version": 3
   },
   "file_extension": ".py",
   "mimetype": "text/x-python",
   "name": "python",
   "nbconvert_exporter": "python",
   "pygments_lexer": "ipython3",
   "version": "3.7.10"
  }
 },
 "nbformat": 4,
 "nbformat_minor": 5
}
